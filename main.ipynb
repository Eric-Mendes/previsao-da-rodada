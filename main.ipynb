{
  "nbformat": 4,
  "nbformat_minor": 0,
  "metadata": {
    "colab": {
      "name": "Untitled2.ipynb",
      "provenance": [],
      "collapsed_sections": [],
      "authorship_tag": "ABX9TyNjGjVLk5VQ1b0s49OX086S",
      "include_colab_link": true
    },
    "kernelspec": {
      "name": "python3",
      "display_name": "Python 3"
    },
    "language_info": {
      "name": "python"
    }
  },
  "cells": [
    {
      "cell_type": "markdown",
      "metadata": {
        "id": "view-in-github",
        "colab_type": "text"
      },
      "source": [
        "<a href=\"https://colab.research.google.com/github/Eric-Mendes/previsao-da-rodada/blob/main/main.ipynb\" target=\"_parent\"><img src=\"https://colab.research.google.com/assets/colab-badge.svg\" alt=\"Open In Colab\"/></a>"
      ]
    },
    {
      "cell_type": "code",
      "metadata": {
        "id": "alfadKJtgvQA"
      },
      "source": [
        "import requests\n",
        "import pandas as pd\n",
        "import numpy as np\n",
        "from matplotlib import pyplot as plt"
      ],
      "execution_count": 14,
      "outputs": []
    },
    {
      "cell_type": "code",
      "metadata": {
        "id": "b3lgt1B7jsEC"
      },
      "source": [
        "RODADAS = 11\n",
        "rodadas = (f'{n:02}' for n in range(1, RODADAS+1))"
      ],
      "execution_count": 2,
      "outputs": []
    },
    {
      "cell_type": "code",
      "metadata": {
        "id": "k-tYW1big6LB"
      },
      "source": [
        "data = []\n",
        "for rodada in rodadas:\n",
        "  with requests.get(f'https://api.cartolafc.globo.com/partidas/{rodada}') as response:\n",
        "      assert response.status_code == 200\n",
        "      partidas = response.json()['partidas']\n",
        "      for partida in partidas:\n",
        "        if partida['placar_oficial_mandante'] is not None:\n",
        "          partida = [\n",
        "                    rodada, \n",
        "                    partida['clube_casa_id'], \n",
        "                    partida['placar_oficial_mandante'], \n",
        "                    partida['placar_oficial_visitante'], \n",
        "                    partida['clube_visitante_id']]\n",
        "          data.append(partida)\n",
        "\n",
        "df = pd.DataFrame(data, columns=['RODADA', \n",
        "                                 'ID MANDANTE', \n",
        "                                 'PLACAR MANDANTE', \n",
        "                                 'PLACAR VISITANTE', \n",
        "                                 'ID VISITANTE'])"
      ],
      "execution_count": 3,
      "outputs": []
    },
    {
      "cell_type": "code",
      "metadata": {
        "id": "P029DyehhZHz"
      },
      "source": [
        "TOTAL_JOGOS = len(df)\n",
        "GOLS_FEITOS_MANDANTE_COUNT = sum(df['PLACAR MANDANTE'])\n",
        "GOLS_FEITOS_VISITANTE_COUNT = sum(df['PLACAR VISITANTE'])\n",
        "\n",
        "GOLS_FEITOS_MANDANTE_AVG = GOLS_FEITOS_MANDANTE_COUNT / TOTAL_JOGOS\n",
        "GOLS_FEITOS_VISITANTE_AVG = GOLS_FEITOS_VISITANTE_COUNT / TOTAL_JOGOS\n",
        "\n",
        "gols_feitos_stats = {'total_jogos': TOTAL_JOGOS, 'count_mandante': GOLS_FEITOS_MANDANTE_COUNT, \n",
        "                     'count_visitante': GOLS_FEITOS_VISITANTE_COUNT, 'avg_mandante': GOLS_FEITOS_MANDANTE_AVG, \n",
        "                     'avg_visitante': GOLS_FEITOS_VISITANTE_AVG}"
      ],
      "execution_count": 4,
      "outputs": []
    },
    {
      "cell_type": "code",
      "metadata": {
        "id": "IiZy4S4aqOjM"
      },
      "source": [
        "GOLS_TOMADOS_MANDANTE_COUNT = sum(df['PLACAR VISITANTE'])\n",
        "GOLS_TOMADOS_VISITANTE_COUNT = sum(df['PLACAR MANDANTE'])\n",
        "\n",
        "GOLS_TOMADOS_MANDANTE_AVG = GOLS_TOMADOS_MANDANTE_COUNT / TOTAL_JOGOS\n",
        "GOLS_TOMADOS_VISITANTE_AVG = GOLS_TOMADOS_VISITANTE_COUNT / TOTAL_JOGOS\n",
        "\n",
        "gols_tomados_stats = {'total_jogos': TOTAL_JOGOS, 'count_mandante': GOLS_TOMADOS_MANDANTE_COUNT, \n",
        "                      'count_visitante': GOLS_TOMADOS_VISITANTE_COUNT, 'avg_mandante': GOLS_TOMADOS_MANDANTE_AVG, \n",
        "                      'avg_visitante': GOLS_TOMADOS_VISITANTE_AVG}"
      ],
      "execution_count": 5,
      "outputs": []
    },
    {
      "cell_type": "code",
      "metadata": {
        "id": "R7Ak_-WMq-hC"
      },
      "source": [
        "dat = []\n",
        "with requests.get(f'https://api.cartolafc.globo.com/partidas/01') as response:\n",
        "  assert response.status_code == 200\n",
        "  times = response.json()['clubes']\n",
        "  dat = [[time['id'], time['nome']] for _, time in times.items()]\n",
        "\n",
        "df_clubes = pd.DataFrame(dat, columns=['id', 'nome'])\n",
        "feitos_casa = []\n",
        "tomados_casa = []\n",
        "\n",
        "feitos_fora = []\n",
        "tomados_fora = []\n",
        "nro_jogos = []\n",
        "\n",
        "avg_feitos_casa = []\n",
        "avg_tomados_casa = []\n",
        "avg_feitos_fora = []\n",
        "avg_tomados_fora = []\n",
        "\n",
        "ataque_casa = []\n",
        "defesa_casa = []\n",
        "ataque_fora = []\n",
        "defesa_fora = []\n",
        "\n",
        "for id in df_clubes['id']:\n",
        "  feitos_casa.append(sum(df['PLACAR MANDANTE'][df['ID MANDANTE'] == id]))\n",
        "  tomados_casa.append(sum(df['PLACAR VISITANTE'][df['ID MANDANTE'] == id]))\n",
        "\n",
        "  feitos_fora.append(sum(df['PLACAR VISITANTE'][df['ID VISITANTE'] == id]))\n",
        "  tomados_fora.append(sum(df['PLACAR MANDANTE'][df['ID VISITANTE'] == id]))\n",
        "  jogos = len(df[df['ID MANDANTE'] == id]) + len(df[df['ID VISITANTE'] == id])\n",
        "  nro_jogos.append(jogos)\n",
        "\n",
        "  jogos_casa = len(df[df['ID MANDANTE'] == id])\n",
        "  jogos_fora = len(df[df['ID VISITANTE'] == id])\n",
        "\n",
        "  afc = sum(df['PLACAR MANDANTE'][df['ID MANDANTE'] == id]) / jogos_casa\n",
        "  atc = sum(df['PLACAR VISITANTE'][df['ID MANDANTE'] == id]) / jogos_casa\n",
        "  aff = sum(df['PLACAR VISITANTE'][df['ID VISITANTE'] == id]) / jogos_fora\n",
        "  atf = sum(df['PLACAR MANDANTE'][df['ID VISITANTE'] == id]) / jogos_fora\n",
        "\n",
        "  avg_feitos_casa.append(afc)\n",
        "  avg_tomados_casa.append(atc)\n",
        "  avg_feitos_fora.append(aff)\n",
        "  avg_tomados_fora.append(atf)\n",
        "\n",
        "  fac = afc / gols_feitos_stats['avg_mandante']\n",
        "  faf = aff / gols_feitos_stats['avg_visitante']\n",
        "  fdc = atc / gols_tomados_stats['avg_mandante']\n",
        "  fdf = atf / gols_tomados_stats['avg_visitante']\n",
        "\n",
        "  ataque_casa.append(fac)\n",
        "  ataque_fora.append(faf)\n",
        "  defesa_casa.append(fdc)\n",
        "  defesa_fora.append(fdf)\n",
        "\n",
        "df_clubes['gols feitos casa'] = feitos_casa\n",
        "df_clubes['gols tomados casa'] = tomados_casa\n",
        "df_clubes['gols feitos fora'] = feitos_fora\n",
        "df_clubes['gols tomados fora'] = tomados_fora\n",
        "df_clubes['número de jogos'] = nro_jogos\n",
        "\n",
        "df_clubes['avg feitos casa'] = avg_feitos_casa\n",
        "df_clubes['avg tomados casa'] = avg_tomados_casa\n",
        "df_clubes['avg feitos fora'] = avg_feitos_fora\n",
        "df_clubes['avg tomados fora'] = avg_tomados_fora\n",
        "\n",
        "df_clubes['força ataque casa'] = ataque_casa\n",
        "df_clubes['força defesa casa'] = defesa_casa\n",
        "df_clubes['força ataque fora'] = ataque_fora\n",
        "df_clubes['força defesa fora'] = defesa_fora"
      ],
      "execution_count": 6,
      "outputs": []
    },
    {
      "cell_type": "code",
      "metadata": {
        "colab": {
          "base_uri": "https://localhost:8080/",
          "height": 677
        },
        "id": "EOhO38TEuvpo",
        "outputId": "50a9af15-e51a-4c3e-e2f4-fb00fbf757df"
      },
      "source": [
        "df_clubes_limpa = df_clubes[['id', 'nome', 'força ataque casa', 'força ataque fora', 'força defesa casa', 'força defesa fora']]\n",
        "df_clubes_limpa"
      ],
      "execution_count": 7,
      "outputs": [
        {
          "output_type": "execute_result",
          "data": {
            "text/html": [
              "<div>\n",
              "<style scoped>\n",
              "    .dataframe tbody tr th:only-of-type {\n",
              "        vertical-align: middle;\n",
              "    }\n",
              "\n",
              "    .dataframe tbody tr th {\n",
              "        vertical-align: top;\n",
              "    }\n",
              "\n",
              "    .dataframe thead th {\n",
              "        text-align: right;\n",
              "    }\n",
              "</style>\n",
              "<table border=\"1\" class=\"dataframe\">\n",
              "  <thead>\n",
              "    <tr style=\"text-align: right;\">\n",
              "      <th></th>\n",
              "      <th>id</th>\n",
              "      <th>nome</th>\n",
              "      <th>força ataque casa</th>\n",
              "      <th>força ataque fora</th>\n",
              "      <th>força defesa casa</th>\n",
              "      <th>força defesa fora</th>\n",
              "    </tr>\n",
              "  </thead>\n",
              "  <tbody>\n",
              "    <tr>\n",
              "      <th>0</th>\n",
              "      <td>1371</td>\n",
              "      <td>Cuiabá</td>\n",
              "      <td>0.809160</td>\n",
              "      <td>0.588889</td>\n",
              "      <td>1.717593</td>\n",
              "      <td>0.647328</td>\n",
              "    </tr>\n",
              "    <tr>\n",
              "      <th>1</th>\n",
              "      <td>262</td>\n",
              "      <td>Flamengo</td>\n",
              "      <td>1.213740</td>\n",
              "      <td>0.981481</td>\n",
              "      <td>0.981481</td>\n",
              "      <td>0.809160</td>\n",
              "    </tr>\n",
              "    <tr>\n",
              "      <th>2</th>\n",
              "      <td>264</td>\n",
              "      <td>Corinthians</td>\n",
              "      <td>0.647328</td>\n",
              "      <td>0.654321</td>\n",
              "      <td>0.981481</td>\n",
              "      <td>0.404580</td>\n",
              "    </tr>\n",
              "    <tr>\n",
              "      <th>3</th>\n",
              "      <td>265</td>\n",
              "      <td>Bahia</td>\n",
              "      <td>1.213740</td>\n",
              "      <td>1.766667</td>\n",
              "      <td>0.981481</td>\n",
              "      <td>1.294656</td>\n",
              "    </tr>\n",
              "    <tr>\n",
              "      <th>4</th>\n",
              "      <td>266</td>\n",
              "      <td>Fluminense</td>\n",
              "      <td>0.647328</td>\n",
              "      <td>0.981481</td>\n",
              "      <td>0.981481</td>\n",
              "      <td>0.674300</td>\n",
              "    </tr>\n",
              "    <tr>\n",
              "      <th>5</th>\n",
              "      <td>275</td>\n",
              "      <td>Palmeiras</td>\n",
              "      <td>1.888041</td>\n",
              "      <td>1.374074</td>\n",
              "      <td>1.145062</td>\n",
              "      <td>0.809160</td>\n",
              "    </tr>\n",
              "    <tr>\n",
              "      <th>6</th>\n",
              "      <td>276</td>\n",
              "      <td>São Paulo</td>\n",
              "      <td>0.809160</td>\n",
              "      <td>0.490741</td>\n",
              "      <td>0.981481</td>\n",
              "      <td>0.809160</td>\n",
              "    </tr>\n",
              "    <tr>\n",
              "      <th>7</th>\n",
              "      <td>277</td>\n",
              "      <td>Santos</td>\n",
              "      <td>1.213740</td>\n",
              "      <td>0.785185</td>\n",
              "      <td>0.327160</td>\n",
              "      <td>1.780153</td>\n",
              "    </tr>\n",
              "    <tr>\n",
              "      <th>8</th>\n",
              "      <td>280</td>\n",
              "      <td>Bragantino</td>\n",
              "      <td>1.456489</td>\n",
              "      <td>2.126543</td>\n",
              "      <td>1.374074</td>\n",
              "      <td>0.809160</td>\n",
              "    </tr>\n",
              "    <tr>\n",
              "      <th>9</th>\n",
              "      <td>282</td>\n",
              "      <td>Atlético-MG</td>\n",
              "      <td>1.456489</td>\n",
              "      <td>0.817901</td>\n",
              "      <td>0.981481</td>\n",
              "      <td>0.539440</td>\n",
              "    </tr>\n",
              "    <tr>\n",
              "      <th>10</th>\n",
              "      <td>284</td>\n",
              "      <td>Grêmio</td>\n",
              "      <td>0.323664</td>\n",
              "      <td>0.490741</td>\n",
              "      <td>0.785185</td>\n",
              "      <td>1.618321</td>\n",
              "    </tr>\n",
              "    <tr>\n",
              "      <th>11</th>\n",
              "      <td>285</td>\n",
              "      <td>Internacional</td>\n",
              "      <td>0.647328</td>\n",
              "      <td>0.981481</td>\n",
              "      <td>1.570370</td>\n",
              "      <td>1.078880</td>\n",
              "    </tr>\n",
              "    <tr>\n",
              "      <th>12</th>\n",
              "      <td>286</td>\n",
              "      <td>Juventude</td>\n",
              "      <td>0.674300</td>\n",
              "      <td>0.588889</td>\n",
              "      <td>1.145062</td>\n",
              "      <td>0.970992</td>\n",
              "    </tr>\n",
              "    <tr>\n",
              "      <th>13</th>\n",
              "      <td>292</td>\n",
              "      <td>Sport</td>\n",
              "      <td>0.323664</td>\n",
              "      <td>0.654321</td>\n",
              "      <td>0.785185</td>\n",
              "      <td>0.944020</td>\n",
              "    </tr>\n",
              "    <tr>\n",
              "      <th>14</th>\n",
              "      <td>293</td>\n",
              "      <td>Athlético-PR</td>\n",
              "      <td>1.456489</td>\n",
              "      <td>1.962963</td>\n",
              "      <td>1.177778</td>\n",
              "      <td>0.809160</td>\n",
              "    </tr>\n",
              "    <tr>\n",
              "      <th>15</th>\n",
              "      <td>315</td>\n",
              "      <td>Chapecoense</td>\n",
              "      <td>0.161832</td>\n",
              "      <td>1.308642</td>\n",
              "      <td>1.570370</td>\n",
              "      <td>1.618321</td>\n",
              "    </tr>\n",
              "    <tr>\n",
              "      <th>16</th>\n",
              "      <td>327</td>\n",
              "      <td>América-MG</td>\n",
              "      <td>0.539440</td>\n",
              "      <td>0.981481</td>\n",
              "      <td>0.654321</td>\n",
              "      <td>1.941985</td>\n",
              "    </tr>\n",
              "    <tr>\n",
              "      <th>17</th>\n",
              "      <td>354</td>\n",
              "      <td>Ceará</td>\n",
              "      <td>1.456489</td>\n",
              "      <td>0.654321</td>\n",
              "      <td>1.177778</td>\n",
              "      <td>0.809160</td>\n",
              "    </tr>\n",
              "    <tr>\n",
              "      <th>18</th>\n",
              "      <td>356</td>\n",
              "      <td>Fortaleza</td>\n",
              "      <td>2.022901</td>\n",
              "      <td>0.785185</td>\n",
              "      <td>0.654321</td>\n",
              "      <td>0.809160</td>\n",
              "    </tr>\n",
              "    <tr>\n",
              "      <th>19</th>\n",
              "      <td>373</td>\n",
              "      <td>Atlético-GO</td>\n",
              "      <td>0.647328</td>\n",
              "      <td>0.981481</td>\n",
              "      <td>0.392593</td>\n",
              "      <td>1.132824</td>\n",
              "    </tr>\n",
              "  </tbody>\n",
              "</table>\n",
              "</div>"
            ],
            "text/plain": [
              "      id           nome  ...  força defesa casa  força defesa fora\n",
              "0   1371         Cuiabá  ...           1.717593           0.647328\n",
              "1    262       Flamengo  ...           0.981481           0.809160\n",
              "2    264    Corinthians  ...           0.981481           0.404580\n",
              "3    265          Bahia  ...           0.981481           1.294656\n",
              "4    266     Fluminense  ...           0.981481           0.674300\n",
              "5    275      Palmeiras  ...           1.145062           0.809160\n",
              "6    276      São Paulo  ...           0.981481           0.809160\n",
              "7    277         Santos  ...           0.327160           1.780153\n",
              "8    280     Bragantino  ...           1.374074           0.809160\n",
              "9    282    Atlético-MG  ...           0.981481           0.539440\n",
              "10   284         Grêmio  ...           0.785185           1.618321\n",
              "11   285  Internacional  ...           1.570370           1.078880\n",
              "12   286      Juventude  ...           1.145062           0.970992\n",
              "13   292          Sport  ...           0.785185           0.944020\n",
              "14   293   Athlético-PR  ...           1.177778           0.809160\n",
              "15   315    Chapecoense  ...           1.570370           1.618321\n",
              "16   327     América-MG  ...           0.654321           1.941985\n",
              "17   354          Ceará  ...           1.177778           0.809160\n",
              "18   356      Fortaleza  ...           0.654321           0.809160\n",
              "19   373    Atlético-GO  ...           0.392593           1.132824\n",
              "\n",
              "[20 rows x 6 columns]"
            ]
          },
          "metadata": {
            "tags": []
          },
          "execution_count": 7
        }
      ]
    },
    {
      "cell_type": "code",
      "metadata": {
        "id": "YonaPTOXCCHH"
      },
      "source": [
        "def expectations(home, away):\n",
        "  H = float(df_clubes_limpa['força ataque casa'][df_clubes_limpa['id'] == home]) * float(df_clubes_limpa['força defesa fora'][df_clubes_limpa['id'] == away]) * float(df_clubes['avg feitos casa'][df_clubes['id'] == home])\n",
        "  A = float(df_clubes_limpa['força ataque fora'][df_clubes_limpa['id'] == away]) * float(df_clubes_limpa['força defesa casa'][df_clubes_limpa['id'] == home]) * float(df_clubes['avg feitos fora'][df_clubes['id'] == away])\n",
        "  return H, A"
      ],
      "execution_count": 8,
      "outputs": []
    },
    {
      "cell_type": "code",
      "metadata": {
        "id": "BTbr7fo5EihU"
      },
      "source": [
        "import math\n",
        "\n",
        "def poisson(lamb, x):\n",
        "  return (lamb**x * math.e**(-lamb)) / math.factorial(x)"
      ],
      "execution_count": 9,
      "outputs": []
    },
    {
      "cell_type": "code",
      "metadata": {
        "id": "R_gtZ79YDph4"
      },
      "source": [
        "with requests.get('https://api.cartolafc.globo.com/partidas') as response:\n",
        "    data = response.json()\n",
        "    aux = []\n",
        "    for partida in data['partidas']:\n",
        "        home = partida['clube_casa_id']\n",
        "        away = partida['clube_visitante_id']\n",
        "        times = [str(dict(dat)[home]), str(dict(dat)[away])]\n",
        "        probs = []\n",
        "        exp_h, exp_a = expectations(home, away)\n",
        "\n",
        "        for i in range(6):\n",
        "          for j in range(6):\n",
        "            aux.append([*times, i, j, round(poisson(exp_h, i) * 100, 2), round(poisson(exp_a, j) * 100, 2), round(poisson(exp_h, i) * poisson(exp_a, j) * 100, 2)])\n",
        "            aux = sorted(aux, key=lambda l: l[-1], reverse=True)\n",
        "\n",
        "  \n",
        "    df_new = pd.DataFrame(aux, columns=['home', 'away', 'home_score', 'away_score', 'prob_home', 'prob_away', 'score_prob'])"
      ],
      "execution_count": 10,
      "outputs": []
    },
    {
      "cell_type": "code",
      "metadata": {
        "colab": {
          "base_uri": "https://localhost:8080/",
          "height": 363
        },
        "id": "8BxtKrUEJhUd",
        "outputId": "5e3240ba-47bd-42a1-85c7-56220f2b12e0"
      },
      "source": [
        "df_new.drop_duplicates(subset=['home'])"
      ],
      "execution_count": 11,
      "outputs": [
        {
          "output_type": "execute_result",
          "data": {
            "text/html": [
              "<div>\n",
              "<style scoped>\n",
              "    .dataframe tbody tr th:only-of-type {\n",
              "        vertical-align: middle;\n",
              "    }\n",
              "\n",
              "    .dataframe tbody tr th {\n",
              "        vertical-align: top;\n",
              "    }\n",
              "\n",
              "    .dataframe thead th {\n",
              "        text-align: right;\n",
              "    }\n",
              "</style>\n",
              "<table border=\"1\" class=\"dataframe\">\n",
              "  <thead>\n",
              "    <tr style=\"text-align: right;\">\n",
              "      <th></th>\n",
              "      <th>home</th>\n",
              "      <th>away</th>\n",
              "      <th>home_score</th>\n",
              "      <th>away_score</th>\n",
              "      <th>prob_home</th>\n",
              "      <th>prob_away</th>\n",
              "      <th>score_prob</th>\n",
              "    </tr>\n",
              "  </thead>\n",
              "  <tbody>\n",
              "    <tr>\n",
              "      <th>0</th>\n",
              "      <td>Chapecoense</td>\n",
              "      <td>Cuiabá</td>\n",
              "      <td>0</td>\n",
              "      <td>0</td>\n",
              "      <td>97.93</td>\n",
              "      <td>57.42</td>\n",
              "      <td>56.22</td>\n",
              "    </tr>\n",
              "    <tr>\n",
              "      <th>1</th>\n",
              "      <td>América-MG</td>\n",
              "      <td>Sport</td>\n",
              "      <td>0</td>\n",
              "      <td>0</td>\n",
              "      <td>71.21</td>\n",
              "      <td>75.17</td>\n",
              "      <td>53.53</td>\n",
              "    </tr>\n",
              "    <tr>\n",
              "      <th>2</th>\n",
              "      <td>Corinthians</td>\n",
              "      <td>Atlético-MG</td>\n",
              "      <td>0</td>\n",
              "      <td>0</td>\n",
              "      <td>75.63</td>\n",
              "      <td>51.22</td>\n",
              "      <td>38.74</td>\n",
              "    </tr>\n",
              "    <tr>\n",
              "      <th>3</th>\n",
              "      <td>Internacional</td>\n",
              "      <td>Juventude</td>\n",
              "      <td>0</td>\n",
              "      <td>0</td>\n",
              "      <td>60.48</td>\n",
              "      <td>57.42</td>\n",
              "      <td>34.73</td>\n",
              "    </tr>\n",
              "    <tr>\n",
              "      <th>4</th>\n",
              "      <td>Fluminense</td>\n",
              "      <td>Grêmio</td>\n",
              "      <td>0</td>\n",
              "      <td>0</td>\n",
              "      <td>43.25</td>\n",
              "      <td>78.60</td>\n",
              "      <td>34.00</td>\n",
              "    </tr>\n",
              "    <tr>\n",
              "      <th>6</th>\n",
              "      <td>Atlético-GO</td>\n",
              "      <td>Palmeiras</td>\n",
              "      <td>0</td>\n",
              "      <td>0</td>\n",
              "      <td>65.77</td>\n",
              "      <td>46.99</td>\n",
              "      <td>30.90</td>\n",
              "    </tr>\n",
              "    <tr>\n",
              "      <th>8</th>\n",
              "      <td>São Paulo</td>\n",
              "      <td>Fortaleza</td>\n",
              "      <td>0</td>\n",
              "      <td>0</td>\n",
              "      <td>51.96</td>\n",
              "      <td>53.98</td>\n",
              "      <td>28.05</td>\n",
              "    </tr>\n",
              "    <tr>\n",
              "      <th>18</th>\n",
              "      <td>Bahia</td>\n",
              "      <td>Flamengo</td>\n",
              "      <td>1</td>\n",
              "      <td>0</td>\n",
              "      <td>33.76</td>\n",
              "      <td>38.16</td>\n",
              "      <td>12.89</td>\n",
              "    </tr>\n",
              "    <tr>\n",
              "      <th>33</th>\n",
              "      <td>Bragantino</td>\n",
              "      <td>Santos</td>\n",
              "      <td>4</td>\n",
              "      <td>0</td>\n",
              "      <td>18.58</td>\n",
              "      <td>42.18</td>\n",
              "      <td>7.84</td>\n",
              "    </tr>\n",
              "    <tr>\n",
              "      <th>46</th>\n",
              "      <td>Ceará</td>\n",
              "      <td>Athlético-PR</td>\n",
              "      <td>2</td>\n",
              "      <td>4</td>\n",
              "      <td>26.97</td>\n",
              "      <td>18.69</td>\n",
              "      <td>5.04</td>\n",
              "    </tr>\n",
              "  </tbody>\n",
              "</table>\n",
              "</div>"
            ],
            "text/plain": [
              "             home          away  home_score  ...  prob_home  prob_away  score_prob\n",
              "0     Chapecoense        Cuiabá           0  ...      97.93      57.42       56.22\n",
              "1      América-MG         Sport           0  ...      71.21      75.17       53.53\n",
              "2     Corinthians   Atlético-MG           0  ...      75.63      51.22       38.74\n",
              "3   Internacional     Juventude           0  ...      60.48      57.42       34.73\n",
              "4      Fluminense        Grêmio           0  ...      43.25      78.60       34.00\n",
              "6     Atlético-GO     Palmeiras           0  ...      65.77      46.99       30.90\n",
              "8       São Paulo     Fortaleza           0  ...      51.96      53.98       28.05\n",
              "18          Bahia      Flamengo           1  ...      33.76      38.16       12.89\n",
              "33     Bragantino        Santos           4  ...      18.58      42.18        7.84\n",
              "46          Ceará  Athlético-PR           2  ...      26.97      18.69        5.04\n",
              "\n",
              "[10 rows x 7 columns]"
            ]
          },
          "metadata": {
            "tags": []
          },
          "execution_count": 11
        }
      ]
    },
    {
      "cell_type": "code",
      "metadata": {
        "id": "36AEPlNUjJ2M"
      },
      "source": [
        "def graph(home, away):\n",
        "  x = df_new['home_score'][df_new['home'] == home]\n",
        "  y = df_new['prob_home'][df_new['home'] == home]\n",
        "\n",
        "  x2 = df_new['away_score'][df_new['away'] == away]\n",
        "  y2 = df_new['prob_away'][df_new['away'] == away]\n",
        "\n",
        "  plt.title(f'{home} X {away}')\n",
        "  plt.xlabel('Gols')\n",
        "  plt.ylabel('Probabilidade (%)')\n",
        "  scatter1 = plt.scatter(x, y, label='A')\n",
        "  scatter2 = plt.scatter(x2, y2, color='r', label='B')\n",
        "  plt.show()"
      ],
      "execution_count": 50,
      "outputs": []
    },
    {
      "cell_type": "code",
      "metadata": {
        "colab": {
          "base_uri": "https://localhost:8080/",
          "height": 1000
        },
        "id": "aNb3IMkqltEr",
        "outputId": "983d0db5-859f-4043-cebd-a4d19e0181ca"
      },
      "source": [
        "with requests.get('https://api.cartolafc.globo.com/partidas') as response:\n",
        "    data = response.json()\n",
        "    for partida in data['partidas']:\n",
        "        home = partida['clube_casa_id']\n",
        "        away = partida['clube_visitante_id']\n",
        "        times = [str(dict(dat)[home]), str(dict(dat)[away])]\n",
        "        graph(*times)\n",
        "        print()"
      ],
      "execution_count": 51,
      "outputs": [
        {
          "output_type": "display_data",
          "data": {
            "image/png": "[encoded data removed]",
            "text/plain": [
              "<Figure size 432x288 with 1 Axes>"
            ]
          },
          "metadata": {
            "tags": [],
            "needs_background": "light"
          }
        },
        {
          "output_type": "stream",
          "text": [
            "\n"
          ],
          "name": "stdout"
        },
        {
          "output_type": "display_data",
          "data": {
            "image/png": "[encoded data removed]",
            "text/plain": [
              "<Figure size 432x288 with 1 Axes>"
            ]
          },
          "metadata": {
            "tags": [],
            "needs_background": "light"
          }
        },
        {
          "output_type": "stream",
          "text": [
            "\n"
          ],
          "name": "stdout"
        },
        {
          "output_type": "display_data",
          "data": {
            "image/png": "[encoded data removed]",
            "text/plain": [
              "<Figure size 432x288 with 1 Axes>"
            ]
          },
          "metadata": {
            "tags": [],
            "needs_background": "light"
          }
        },
        {
          "output_type": "stream",
          "text": [
            "\n"
          ],
          "name": "stdout"
        },
        {
          "output_type": "display_data",
          "data": {
            "image/png": "[encoded data removed]",
            "text/plain": [
              "<Figure size 432x288 with 1 Axes>"
            ]
          },
          "metadata": {
            "tags": [],
            "needs_background": "light"
          }
        },
        {
          "output_type": "stream",
          "text": [
            "\n"
          ],
          "name": "stdout"
        },
        {
          "output_type": "display_data",
          "data": {
            "image/png": "[encoded data removed]",
            "text/plain": [
              "<Figure size 432x288 with 1 Axes>"
            ]
          },
          "metadata": {
            "tags": [],
            "needs_background": "light"
          }
        },
        {
          "output_type": "stream",
          "text": [
            "\n"
          ],
          "name": "stdout"
        },
        {
          "output_type": "display_data",
          "data": {
            "image/png": "[encoded data removed]",
            "text/plain": [
              "<Figure size 432x288 with 1 Axes>"
            ]
          },
          "metadata": {
            "tags": [],
            "needs_background": "light"
          }
        },
        {
          "output_type": "stream",
          "text": [
            "\n"
          ],
          "name": "stdout"
        },
        {
          "output_type": "display_data",
          "data": {
            "image/png": "[encoded data removed]",
            "text/plain": [
              "<Figure size 432x288 with 1 Axes>"
            ]
          },
          "metadata": {
            "tags": [],
            "needs_background": "light"
          }
        },
        {
          "output_type": "stream",
          "text": [
            "\n"
          ],
          "name": "stdout"
        },
        {
          "output_type": "display_data",
          "data": {
            "image/png": "[encoded data removed]",
            "text/plain": [
              "<Figure size 432x288 with 1 Axes>"
            ]
          },
          "metadata": {
            "tags": [],
            "needs_background": "light"
          }
        },
        {
          "output_type": "stream",
          "text": [
            "\n"
          ],
          "name": "stdout"
        },
        {
          "output_type": "display_data",
          "data": {
            "image/png": "[encoded data removed]",
            "text/plain": [
              "<Figure size 432x288 with 1 Axes>"
            ]
          },
          "metadata": {
            "tags": [],
            "needs_background": "light"
          }
        },
        {
          "output_type": "stream",
          "text": [
            "\n"
          ],
          "name": "stdout"
        },
        {
          "output_type": "display_data",
          "data": {
            "image/png": "[encoded data removed]",
            "text/plain": [
              "<Figure size 432x288 with 1 Axes>"
            ]
          },
          "metadata": {
            "tags": [],
            "needs_background": "light"
          }
        },
        {
          "output_type": "stream",
          "text": [
            "\n"
          ],
          "name": "stdout"
        }
      ]
    }
  ]
}